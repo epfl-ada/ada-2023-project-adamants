{
 "cells": [
  {
   "cell_type": "code",
   "execution_count": 1,
   "metadata": {},
   "outputs": [],
   "source": [
    "import pandas as pd\n",
    "import numpy as np\n",
    "import seaborn as sns\n",
    "import matplotlib.pyplot as plt"
   ]
  },
  {
   "cell_type": "code",
   "execution_count": 2,
   "metadata": {},
   "outputs": [],
   "source": [
    "DATA_FOLDER='./data/'\n",
    "PATHS_AND_GRAPH = DATA_FOLDER + 'wikispeedia_paths-and-graph/'\n",
    "PATHS_FINISHED = PATHS_AND_GRAPH + 'paths_finished.tsv'\n",
    "PATHS_UNFINISHED = PATHS_AND_GRAPH + 'paths_unfinished.tsv'"
   ]
  },
  {
   "cell_type": "code",
   "execution_count": 3,
   "metadata": {},
   "outputs": [
    {
     "data": {
      "text/html": [
       "<div>\n",
       "<style scoped>\n",
       "    .dataframe tbody tr th:only-of-type {\n",
       "        vertical-align: middle;\n",
       "    }\n",
       "\n",
       "    .dataframe tbody tr th {\n",
       "        vertical-align: top;\n",
       "    }\n",
       "\n",
       "    .dataframe thead th {\n",
       "        text-align: right;\n",
       "    }\n",
       "</style>\n",
       "<table border=\"1\" class=\"dataframe\">\n",
       "  <thead>\n",
       "    <tr style=\"text-align: right;\">\n",
       "      <th></th>\n",
       "      <th>hashedIpAddress</th>\n",
       "      <th>timestamp</th>\n",
       "      <th>durationInSec</th>\n",
       "      <th>path</th>\n",
       "      <th>rating</th>\n",
       "    </tr>\n",
       "  </thead>\n",
       "  <tbody>\n",
       "    <tr>\n",
       "      <th>0</th>\n",
       "      <td>6a3701d319fc3754</td>\n",
       "      <td>2011-02-15 03:26:49</td>\n",
       "      <td>166</td>\n",
       "      <td>14th_century;15th_century;16th_century;Pacific...</td>\n",
       "      <td>NaN</td>\n",
       "    </tr>\n",
       "    <tr>\n",
       "      <th>1</th>\n",
       "      <td>3824310e536af032</td>\n",
       "      <td>2012-08-12 06:36:52</td>\n",
       "      <td>88</td>\n",
       "      <td>14th_century;Europe;Africa;Atlantic_slave_trad...</td>\n",
       "      <td>3.0</td>\n",
       "    </tr>\n",
       "    <tr>\n",
       "      <th>2</th>\n",
       "      <td>415612e93584d30e</td>\n",
       "      <td>2012-10-03 21:10:40</td>\n",
       "      <td>138</td>\n",
       "      <td>14th_century;Niger;Nigeria;British_Empire;Slav...</td>\n",
       "      <td>NaN</td>\n",
       "    </tr>\n",
       "    <tr>\n",
       "      <th>3</th>\n",
       "      <td>64dd5cd342e3780c</td>\n",
       "      <td>2010-02-08 07:25:25</td>\n",
       "      <td>37</td>\n",
       "      <td>14th_century;Renaissance;Ancient_Greece;Greece</td>\n",
       "      <td>NaN</td>\n",
       "    </tr>\n",
       "    <tr>\n",
       "      <th>4</th>\n",
       "      <td>015245d773376aab</td>\n",
       "      <td>2013-04-23 15:27:08</td>\n",
       "      <td>175</td>\n",
       "      <td>14th_century;Italy;Roman_Catholic_Church;HIV;R...</td>\n",
       "      <td>3.0</td>\n",
       "    </tr>\n",
       "  </tbody>\n",
       "</table>\n",
       "</div>"
      ],
      "text/plain": [
       "    hashedIpAddress           timestamp  durationInSec  \\\n",
       "0  6a3701d319fc3754 2011-02-15 03:26:49            166   \n",
       "1  3824310e536af032 2012-08-12 06:36:52             88   \n",
       "2  415612e93584d30e 2012-10-03 21:10:40            138   \n",
       "3  64dd5cd342e3780c 2010-02-08 07:25:25             37   \n",
       "4  015245d773376aab 2013-04-23 15:27:08            175   \n",
       "\n",
       "                                                path  rating  \n",
       "0  14th_century;15th_century;16th_century;Pacific...     NaN  \n",
       "1  14th_century;Europe;Africa;Atlantic_slave_trad...     3.0  \n",
       "2  14th_century;Niger;Nigeria;British_Empire;Slav...     NaN  \n",
       "3     14th_century;Renaissance;Ancient_Greece;Greece     NaN  \n",
       "4  14th_century;Italy;Roman_Catholic_Church;HIV;R...     3.0  "
      ]
     },
     "execution_count": 3,
     "metadata": {},
     "output_type": "execute_result"
    }
   ],
   "source": [
    "#data exploration\n",
    "paths_finished = pd.read_csv(PATHS_FINISHED, sep='\\t', header=None, names=['hashedIpAddress', 'timestamp', 'durationInSec', 'path', 'rating'], encoding='utf-8', skiprows=16).copy(deep=True)\n",
    "paths_finished[\"timestamp\"] = pd.to_datetime(paths_finished[\"timestamp\"], unit='s')\n",
    "paths_finished.head()\n"
   ]
  },
  {
   "cell_type": "code",
   "execution_count": 4,
   "metadata": {},
   "outputs": [
    {
     "data": {
      "text/plain": [
       "['plaintext_articles',\n",
       " 'wikispeedia_articles_html.tar.gz',\n",
       " 'wikispeedia_articles_plaintext.tar.gz',\n",
       " 'wikispeedia_paths-and-graph',\n",
       " 'wikispeedia_paths-and-graph.tar.gz',\n",
       " 'wpcd']"
      ]
     },
     "execution_count": 4,
     "metadata": {},
     "output_type": "execute_result"
    }
   ],
   "source": [
    "import os\n",
    "os.listdir('./data')"
   ]
  },
  {
   "cell_type": "code",
   "execution_count": 5,
   "metadata": {},
   "outputs": [
    {
     "data": {
      "text/html": [
       "<div>\n",
       "<style scoped>\n",
       "    .dataframe tbody tr th:only-of-type {\n",
       "        vertical-align: middle;\n",
       "    }\n",
       "\n",
       "    .dataframe tbody tr th {\n",
       "        vertical-align: top;\n",
       "    }\n",
       "\n",
       "    .dataframe thead th {\n",
       "        text-align: right;\n",
       "    }\n",
       "</style>\n",
       "<table border=\"1\" class=\"dataframe\">\n",
       "  <thead>\n",
       "    <tr style=\"text-align: right;\">\n",
       "      <th></th>\n",
       "      <th>hashedIpAddress</th>\n",
       "      <th>timestamp</th>\n",
       "      <th>durationInSec</th>\n",
       "      <th>path</th>\n",
       "      <th>target</th>\n",
       "      <th>type</th>\n",
       "    </tr>\n",
       "  </thead>\n",
       "  <tbody>\n",
       "    <tr>\n",
       "      <th>0</th>\n",
       "      <td>2426091a53125110</td>\n",
       "      <td>2011-02-07 05:02:15</td>\n",
       "      <td>1804</td>\n",
       "      <td>Obi-Wan_Kenobi</td>\n",
       "      <td>Microsoft</td>\n",
       "      <td>timeout</td>\n",
       "    </tr>\n",
       "    <tr>\n",
       "      <th>1</th>\n",
       "      <td>26141fd878806294</td>\n",
       "      <td>2011-02-07 05:14:11</td>\n",
       "      <td>1805</td>\n",
       "      <td>Julius_Caesar</td>\n",
       "      <td>Caracas</td>\n",
       "      <td>timeout</td>\n",
       "    </tr>\n",
       "    <tr>\n",
       "      <th>2</th>\n",
       "      <td>2b015fb8181c48f2</td>\n",
       "      <td>2011-02-07 15:00:19</td>\n",
       "      <td>1818</td>\n",
       "      <td>Malawi;Democracy;Alexander_the_Great</td>\n",
       "      <td>First_Crusade</td>\n",
       "      <td>timeout</td>\n",
       "    </tr>\n",
       "    <tr>\n",
       "      <th>3</th>\n",
       "      <td>53a53bc244e08a6a</td>\n",
       "      <td>2011-02-07 16:06:01</td>\n",
       "      <td>49</td>\n",
       "      <td>Paraguay</td>\n",
       "      <td>Mount_St._Helens</td>\n",
       "      <td>restart</td>\n",
       "    </tr>\n",
       "    <tr>\n",
       "      <th>4</th>\n",
       "      <td>53a53bc244e08a6a</td>\n",
       "      <td>2011-02-07 17:18:25</td>\n",
       "      <td>1808</td>\n",
       "      <td>Paraguay;Bolivia</td>\n",
       "      <td>Mount_St._Helens</td>\n",
       "      <td>timeout</td>\n",
       "    </tr>\n",
       "  </tbody>\n",
       "</table>\n",
       "</div>"
      ],
      "text/plain": [
       "    hashedIpAddress           timestamp  durationInSec  \\\n",
       "0  2426091a53125110 2011-02-07 05:02:15           1804   \n",
       "1  26141fd878806294 2011-02-07 05:14:11           1805   \n",
       "2  2b015fb8181c48f2 2011-02-07 15:00:19           1818   \n",
       "3  53a53bc244e08a6a 2011-02-07 16:06:01             49   \n",
       "4  53a53bc244e08a6a 2011-02-07 17:18:25           1808   \n",
       "\n",
       "                                   path            target     type  \n",
       "0                        Obi-Wan_Kenobi         Microsoft  timeout  \n",
       "1                         Julius_Caesar           Caracas  timeout  \n",
       "2  Malawi;Democracy;Alexander_the_Great     First_Crusade  timeout  \n",
       "3                              Paraguay  Mount_St._Helens  restart  \n",
       "4                      Paraguay;Bolivia  Mount_St._Helens  timeout  "
      ]
     },
     "execution_count": 5,
     "metadata": {},
     "output_type": "execute_result"
    }
   ],
   "source": [
    "paths_unfinished= pd.read_csv(PATHS_UNFINISHED, sep='\\t', header=None, names=['hashedIpAddress', 'timestamp', 'durationInSec', 'path', 'target', 'type'], encoding='utf-8', skiprows=17).copy(deep=True)\n",
    "paths_unfinished[\"timestamp\"] = pd.to_datetime(paths_unfinished[\"timestamp\"], unit='s')\n",
    "paths_unfinished.head()"
   ]
  },
  {
   "cell_type": "markdown",
   "metadata": {},
   "source": [
    "Loading shortest path distance matrix and articles"
   ]
  },
  {
   "cell_type": "code",
   "execution_count": 6,
   "metadata": {},
   "outputs": [
    {
     "data": {
      "text/plain": [
       "0       [0, _, _, _, _, _, 3, 3, 3, 3, 3, 3, 2, 5, 6, ...\n",
       "1       [_, 0, _, _, _, _, 2, 2, 2, 2, 2, 3, 2, 5, 6, ...\n",
       "2       [_, _, 0, _, _, _, 3, 3, 2, 2, 2, 4, 2, 5, 6, ...\n",
       "3       [_, _, _, 0, _, _, 3, 3, 3, 3, 3, 3, 2, 5, 6, ...\n",
       "4       [_, _, _, _, 0, _, 2, 2, 3, 2, 3, 3, 3, 5, 6, ...\n",
       "                              ...                        \n",
       "4599    [_, _, _, _, _, _, 2, 2, 2, 2, 2, 3, 2, 5, 6, ...\n",
       "4600    [_, _, _, _, _, _, 3, 3, 3, 3, 3, 4, 3, 4, 5, ...\n",
       "4601    [_, _, _, _, _, _, 2, 2, 2, 2, 2, 4, 2, 4, 5, ...\n",
       "4602    [_, _, _, _, _, _, 3, 3, 3, 3, 3, 4, 3, 6, 7, ...\n",
       "4603    [_, _, _, _, _, _, 2, 2, 2, 3, 3, 3, 2, 5, 6, ...\n",
       "Name: shortest path, Length: 4604, dtype: object"
      ]
     },
     "execution_count": 6,
     "metadata": {},
     "output_type": "execute_result"
    }
   ],
   "source": [
    "# shortest path distance matrix \n",
    "SHORTEST_PATH_MATRIX = PATHS_AND_GRAPH + 'shortest-path-distance-matrix.txt'\n",
    "shortest_path_distance_matrix= pd.read_csv(SHORTEST_PATH_MATRIX, sep='\\t', names=['shortest path'], header=None, encoding='utf-8', skiprows=17).copy(deep=True)\n",
    "shortest_path_distance_matrix = shortest_path_distance_matrix['shortest path'].apply(lambda x: list(x))\n",
    "shortest_path_distance_matrix"
   ]
  },
  {
   "cell_type": "code",
   "execution_count": 7,
   "metadata": {},
   "outputs": [
    {
     "data": {
      "text/html": [
       "<div>\n",
       "<style scoped>\n",
       "    .dataframe tbody tr th:only-of-type {\n",
       "        vertical-align: middle;\n",
       "    }\n",
       "\n",
       "    .dataframe tbody tr th {\n",
       "        vertical-align: top;\n",
       "    }\n",
       "\n",
       "    .dataframe thead th {\n",
       "        text-align: right;\n",
       "    }\n",
       "</style>\n",
       "<table border=\"1\" class=\"dataframe\">\n",
       "  <thead>\n",
       "    <tr style=\"text-align: right;\">\n",
       "      <th></th>\n",
       "      <th>article name</th>\n",
       "    </tr>\n",
       "  </thead>\n",
       "  <tbody>\n",
       "    <tr>\n",
       "      <th>0</th>\n",
       "      <td>%C3%81ed%C3%A1n_mac_Gabr%C3%A1in</td>\n",
       "    </tr>\n",
       "    <tr>\n",
       "      <th>1</th>\n",
       "      <td>%C3%85land</td>\n",
       "    </tr>\n",
       "    <tr>\n",
       "      <th>2</th>\n",
       "      <td>%C3%89douard_Manet</td>\n",
       "    </tr>\n",
       "    <tr>\n",
       "      <th>3</th>\n",
       "      <td>%C3%89ire</td>\n",
       "    </tr>\n",
       "    <tr>\n",
       "      <th>4</th>\n",
       "      <td>%C3%93engus_I_of_the_Picts</td>\n",
       "    </tr>\n",
       "    <tr>\n",
       "      <th>...</th>\n",
       "      <td>...</td>\n",
       "    </tr>\n",
       "    <tr>\n",
       "      <th>4599</th>\n",
       "      <td>Zionism</td>\n",
       "    </tr>\n",
       "    <tr>\n",
       "      <th>4600</th>\n",
       "      <td>Zirconium</td>\n",
       "    </tr>\n",
       "    <tr>\n",
       "      <th>4601</th>\n",
       "      <td>Zoroaster</td>\n",
       "    </tr>\n",
       "    <tr>\n",
       "      <th>4602</th>\n",
       "      <td>Zuid-Gelders</td>\n",
       "    </tr>\n",
       "    <tr>\n",
       "      <th>4603</th>\n",
       "      <td>Zulu</td>\n",
       "    </tr>\n",
       "  </tbody>\n",
       "</table>\n",
       "<p>4604 rows × 1 columns</p>\n",
       "</div>"
      ],
      "text/plain": [
       "                          article name\n",
       "0     %C3%81ed%C3%A1n_mac_Gabr%C3%A1in\n",
       "1                           %C3%85land\n",
       "2                   %C3%89douard_Manet\n",
       "3                            %C3%89ire\n",
       "4           %C3%93engus_I_of_the_Picts\n",
       "...                                ...\n",
       "4599                           Zionism\n",
       "4600                         Zirconium\n",
       "4601                         Zoroaster\n",
       "4602                      Zuid-Gelders\n",
       "4603                              Zulu\n",
       "\n",
       "[4604 rows x 1 columns]"
      ]
     },
     "execution_count": 7,
     "metadata": {},
     "output_type": "execute_result"
    }
   ],
   "source": [
    "# articles\n",
    "ARTICLES = PATHS_AND_GRAPH + 'articles.tsv'\n",
    "articles= pd.read_csv(ARTICLES, sep='\\t', header=None, encoding='utf-8', names=['article name'], skiprows=12).copy(deep=True)\n",
    "articles"
   ]
  },
  {
   "cell_type": "markdown",
   "metadata": {},
   "source": [
    "## Longer paths more challenging -> lead to giving up?\n",
    "(Look at ratings and giving up rate)"
   ]
  },
  {
   "cell_type": "code",
   "execution_count": 8,
   "metadata": {},
   "outputs": [
    {
     "name": "stderr",
     "output_type": "stream",
     "text": [
      "100%|███████████████████████████████████████████████████████████████████████████| 51318/51318 [01:32<00:00, 555.78it/s]\n"
     ]
    },
    {
     "data": {
      "text/plain": [
       "['14th_century',\n",
       " 'Time',\n",
       " 'Science',\n",
       " 'Nature',\n",
       " 'Weather',\n",
       " 'Sunlight',\n",
       " 'Sun',\n",
       " 'Earth%27s_atmosphere',\n",
       " 'Ultraviolet',\n",
       " 'Color',\n",
       " 'Light',\n",
       " 'Rainbow']"
      ]
     },
     "execution_count": 8,
     "metadata": {},
     "output_type": "execute_result"
    }
   ],
   "source": [
    "# algo pour elever < et split paths\n",
    "from tqdm import tqdm\n",
    "pd.options.mode.chained_assignment = None  # Check whether this is ok !!\n",
    "\n",
    "paths_finished_copy = paths_finished.copy()\n",
    "for i in tqdm(range(len(paths_finished_copy))):\n",
    "    paths_finished_copy['path'].iloc[i] = paths_finished_copy['path'].iloc[i].split(';')\n",
    "    for item in paths_finished_copy['path'].iloc[i].copy():\n",
    "        if (item == '<'):\n",
    "            paths_finished_copy['path'].iloc[i].remove(item)\n",
    "\n",
    "paths_finished_copy.path.iloc[10]"
   ]
  },
  {
   "cell_type": "code",
   "execution_count": 9,
   "metadata": {},
   "outputs": [
    {
     "data": {
      "text/plain": [
       "'14th_century'"
      ]
     },
     "execution_count": 9,
     "metadata": {},
     "output_type": "execute_result"
    }
   ],
   "source": [
    "articles['article name'].iloc[10]"
   ]
  },
  {
   "cell_type": "code",
   "execution_count": 16,
   "metadata": {},
   "outputs": [
    {
     "name": "stderr",
     "output_type": "stream",
     "text": [
      "100%|███████████████████████████████████████████████████████████████████████████| 51318/51318 [02:24<00:00, 354.55it/s]"
     ]
    },
    {
     "name": "stdout",
     "output_type": "stream",
     "text": [
      "6.757434038738844 2.8454148641802095\n"
     ]
    },
    {
     "name": "stderr",
     "output_type": "stream",
     "text": [
      "\n"
     ]
    }
   ],
   "source": [
    "# comparing optimal path length between finished and unfinished\n",
    "\n",
    "# on sen fou de ca \n",
    "mean_finished_path_length = paths_finished['path'].apply(lambda x: len(x.split(';'))).mean()\n",
    "\n",
    "# change to only take unique path datapoints !!!\n",
    "mean_finished_optimal_path_length = np.zeros((len(paths_finished_copy),1))\n",
    "for i in tqdm(range(len(mean_finished_optimal_path_length))):\n",
    "    start_article = paths_finished_copy['path'][i][0]\n",
    "    end_article = paths_finished_copy['path'][i][-1]\n",
    "    start_index = articles[articles['article name'] == start_article].index[0]\n",
    "    end_index = articles[articles['article name'] == end_article].index[0]\n",
    "    if shortest_path_distance_matrix[start_index][end_index] == '_' :   # le jeu peut demander un path impossible!!!\n",
    "        mean_finished_optimal_path_length[i] = -1\n",
    "    else:\n",
    "        mean_finished_optimal_path_length[i] = shortest_path_distance_matrix[start_index][end_index]\n",
    "\n",
    "mean_finished_optimal_path_length =  mean_finished_optimal_path_length.mean()\n",
    "print(mean_finished_path_length, mean_finished_optimal_path_length)"
   ]
  },
  {
   "cell_type": "code",
   "execution_count": 17,
   "metadata": {},
   "outputs": [
    {
     "name": "stdout",
     "output_type": "stream",
     "text": [
      "rating\n",
      "2.0    8792\n",
      "1.0    8542\n",
      "3.0    7261\n",
      "4.0    2748\n",
      "5.0    1158\n",
      "Name: count, dtype: int64\n"
     ]
    },
    {
     "data": {
      "image/png": "[encoded data removed]",
      "text/plain": [
       "<Figure size 640x480 with 1 Axes>"
      ]
     },
     "metadata": {},
     "output_type": "display_data"
    }
   ],
   "source": [
    "# correlation between rating and path length (look in finished paths)\n",
    "\n",
    "# remove nans\n",
    "paths_finished_copy_woNan = paths_finished_copy.dropna(subset=[\"rating\"])\n",
    "finished_path_length_woNan = paths_finished_copy_woNan['path'].apply(lambda x: len(x))\n",
    "\n",
    "print(paths_finished_copy_woNan['rating'].value_counts())\n",
    "\n",
    "plt.scatter(paths_finished_copy_woNan['rating'], finished_path_length_woNan, alpha = 0.3, s = 10)\n",
    "plt.ylabel('path length')\n",
    "plt.xlabel('rating')\n",
    "plt.title('rating vs path length')\n",
    "plt.show()"
   ]
  },
  {
   "cell_type": "code",
   "execution_count": null,
   "metadata": {},
   "outputs": [],
   "source": [
    "display(paths_unfinished_copy.iloc[-1])"
   ]
  },
  {
   "cell_type": "code",
   "execution_count": 85,
   "metadata": {},
   "outputs": [
    {
     "name": "stderr",
     "output_type": "stream",
     "text": [
      "100%|██████████████████████████████████████████████████████████████████████████| 24846/24846 [00:24<00:00, 1015.74it/s]"
     ]
    },
    {
     "name": "stdout",
     "output_type": "stream",
     "text": [
      "3.2303791354745233\n"
     ]
    },
    {
     "name": "stderr",
     "output_type": "stream",
     "text": [
      "\n"
     ]
    }
   ],
   "source": [
    "# correlation between path length and giving up/ restarting (lonk in unfinished paths)\n",
    "\n",
    "paths_unfinished_copy = paths_unfinished.copy()\n",
    "#paths_unfinished_copy['path'] = paths_unfinished_copy['path'].split(';')\n",
    "\n",
    "paths_unfinished_copy = paths_unfinished_copy[paths_unfinished_copy['target'].isin(articles['article name'])]\n",
    "mean_unfinished_optimal_path_length = np.zeros((len(paths_unfinished_copy),1))\n",
    "\n",
    "\n",
    "#mean_unfinished_path_length = paths_unfinished['path'].apply(lambda x: len(x.split(';'))).mean()\n",
    "\n",
    "for i in tqdm(range(len(mean_unfinished_optimal_path_length))):\n",
    "    #if len(paths_unfinished_copy['path'].iloc[i].split(';')) == 1:\n",
    "       # start_article = paths_unfinished_copy['path'].iloc[i]\n",
    "    start_article = paths_unfinished_copy['path'].iloc[i].split(';')[0]\n",
    "    end_article = paths_unfinished_copy['target'].iloc[i]\n",
    "    start_index = articles[articles['article name'] == start_article].index[0]\n",
    "    end_index = articles[articles['article name'] == end_article].index[0]\n",
    "    if shortest_path_distance_matrix[start_index][end_index] == '_' :\n",
    "        mean_unfinished_optimal_path_length[i] = -1\n",
    "    else:\n",
    "        mean_unfinished_optimal_path_length[i] = shortest_path_distance_matrix[start_index][end_index]\n",
    "\n",
    "mean_unfinished_optimal_path_length =  mean_unfinished_optimal_path_length.mean()\n",
    "print(mean_unfinished_optimal_path_length)\n",
    "\n",
    "\n",
    "# 'long peper' error, maybe delete datapoints if target isn't part of article list out these !!!"
   ]
  },
  {
   "cell_type": "code",
   "execution_count": null,
   "metadata": {},
   "outputs": [],
   "source": []
  }
 ],
 "metadata": {
  "kernelspec": {
   "display_name": "Python 3 (ipykernel)",
   "language": "python",
   "name": "python3"
  },
  "language_info": {
   "codemirror_mode": {
    "name": "ipython",
    "version": 3
   },
   "file_extension": ".py",
   "mimetype": "text/x-python",
   "name": "python",
   "nbconvert_exporter": "python",
   "pygments_lexer": "ipython3",
   "version": "3.9.18"
  }
 },
 "nbformat": 4,
 "nbformat_minor": 4
}
